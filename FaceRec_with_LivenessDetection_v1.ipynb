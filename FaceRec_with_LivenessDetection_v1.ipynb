{
 "cells": [
  {
   "cell_type": "markdown",
   "metadata": {},
   "source": [
    "# Facial Recogntion System with Face Liveness Detection"
   ]
  },
  {
   "cell_type": "code",
   "execution_count": 1,
   "metadata": {},
   "outputs": [
    {
     "data": {
      "text/html": [
       "<script>\n",
       "code_show=true; \n",
       "function code_toggle() {\n",
       " if (code_show){\n",
       " $('div.input').hide();\n",
       " } else {\n",
       " $('div.input').show();\n",
       " }\n",
       " code_show = !code_show\n",
       "} \n",
       "$( document ).ready(code_toggle);\n",
       "</script>\n",
       "<form action=\"javascript:code_toggle()\"><input type=\"submit\" value=\"Show/Hide Code\"></form>"
      ],
      "text/plain": [
       "<IPython.core.display.HTML object>"
      ]
     },
     "execution_count": 1,
     "metadata": {},
     "output_type": "execute_result"
    }
   ],
   "source": [
    "from IPython.display import HTML\n",
    "\n",
    "HTML('''<script>\n",
    "code_show=true; \n",
    "function code_toggle() {\n",
    " if (code_show){\n",
    " $('div.input').hide();\n",
    " } else {\n",
    " $('div.input').show();\n",
    " }\n",
    " code_show = !code_show\n",
    "} \n",
    "$( document ).ready(code_toggle);\n",
    "</script>\n",
    "<form action=\"javascript:code_toggle()\"><input type=\"submit\" value=\"Show/Hide Code\"></form>''')"
   ]
  },
  {
   "cell_type": "markdown",
   "metadata": {},
   "source": [
    "## Introduction"
   ]
  },
  {
   "cell_type": "markdown",
   "metadata": {},
   "source": [
    "__Facial Recognition__ is one of the popular ways for identity verification in current time which has been used in many different industry.  \n",
    "__Liveness Detection__ is very important when it comes to face recognition. A vanilla face recognition can be easily spoofed by a print image or a recorded video. So in order to make facial recognition system safe from such attacks, it has to be designed such a way that it could tell the difference between a Live Video or if it is being spoofed, that's where Liveness Detection plays a very important role.  \n",
    "  \n",
    "Liveness Detection can be approached in two ways:  \n",
    "\n",
    "1. __Passive way__: User will be told to do some gestures like tilting head, blinking, etc. This is somewhat easier to implement but it's troublesome for user to do these gestures and that's the reason business doesn't prefer this approach.\n",
    "2. __Active way__: User isn't told to do any kind of gesture and just on the basis of regular video the algorithm should be able to tell that whether it is a live video or if it is being spoofed. This is more convenient for end user but at the same time it is more difficult to implement and will require more data.\n",
    "\n",
    "If __Liveness Detection__ part says that it is a live video, then only Facial recognition code will be invoked through the API since there is no point of doing facial recognition when it is being spoofed with print image or recorded video.  \n",
    "If liveness detection part says that it is being spoofed, then customer will be generated a warning on the screen."
   ]
  },
  {
   "cell_type": "markdown",
   "metadata": {},
   "source": [
    "![title](images/Liveness-Detection.jpg)"
   ]
  },
  {
   "cell_type": "markdown",
   "metadata": {},
   "source": [
    "## Objective"
   ]
  },
  {
   "cell_type": "code",
   "execution_count": 2,
   "metadata": {},
   "outputs": [],
   "source": [
    "# from IPython.display import display\n",
    "# from IPython.display import HTML\n",
    "# import IPython.core.display as di # Example: di.display_html('<h3>%s:</h3>' % str, raw=True)\n",
    "\n",
    "# # This line will hide code by default when the notebook is exported as HTML\n",
    "# di.display_html('<script>jQuery(function() {if (jQuery(\"body.notebook_app\").length == 0) { jQuery(\".input_area\").toggle(); jQuery(\".prompt\").toggle();}});</script>', raw=True)\n",
    "\n",
    "# # This line will add a button to toggle visibility of code blocks, for use with the HTML export version\n",
    "# di.display_html('''<button onclick=\"jQuery('.input_area').toggle(); jQuery('.prompt').toggle();\">Toggle code</button>''', raw=True)"
   ]
  },
  {
   "cell_type": "markdown",
   "metadata": {},
   "source": [
    "To develop a __Facial Recogntion system__ with inherent capability of __Face Liveness Detection system (Active way)__."
   ]
  },
  {
   "cell_type": "markdown",
   "metadata": {},
   "source": [
    "## System Pipeline"
   ]
  },
  {
   "cell_type": "code",
   "execution_count": null,
   "metadata": {},
   "outputs": [],
   "source": []
  },
  {
   "cell_type": "markdown",
   "metadata": {},
   "source": [
    "1. __Photo Collection__: Few photos of all the people, whose face need to be recognized, have to be put in the folder named __People__.\n",
    "2. __Face Encoding__: For all these images face has been detected and then for these detected faces, Face encodings of all these people has been computed and saved as a dictioinary. For __Face Detection__, __Face Encoding__, and __Face Recognition__; _face_recognition_ API has been used which is built on _dlib's_ state-of-the-art face recognition based on Deep Learning.\n",
    "3. __Liveness Detection Model Training__: Once we have the face encodings of all the people and we have trained a deep learning model for face liveness detection based on __3DCNN__.\n",
    "4. __Video Capture__: Now webcam is turned on for video capturing.\n",
    "5. __Liveness Prediction__: These captured video frames are sent to face liveness detection model for prediction.\n",
    "6. __Facial Recongtion__: If liveness detection predicts, with more than a certain probability, that it is a live video then it is sent to _face_recogntion_ API for facial recognition.\n",
    "7. __Warning__: If Liveness Detection says that it is being spoofed then a _Warning_ is generated on the screen to the end user.\n"
   ]
  },
  {
   "cell_type": "markdown",
   "metadata": {},
   "source": [
    "![title](images/Flowchart_1.jpeg)"
   ]
  },
  {
   "cell_type": "markdown",
   "metadata": {},
   "source": [
    "## Result Demo"
   ]
  },
  {
   "cell_type": "code",
   "execution_count": 26,
   "metadata": {},
   "outputs": [],
   "source": [
    "# %%HTML\n",
    "# <div align=\"middle\">\n",
    "# <video width=\"80%\" controls>\n",
    "#       <source src=\"images/VID-20180616-WA0032.mp4\" type=\"video/mp4\">\n",
    "# </video></div>\n"
   ]
  },
  {
   "cell_type": "markdown",
   "metadata": {},
   "source": [
    "## Implementation"
   ]
  },
  {
   "cell_type": "markdown",
   "metadata": {},
   "source": [
    "### Dataset"
   ]
  },
  {
   "cell_type": "markdown",
   "metadata": {},
   "source": [
    "__ROSE-Youtu Face Liveness Detection Dataset__ has been used for training the Liveness detection model.   \n",
    "Few details regarding this dataset are as follows:  \n",
    "1. This dataset contains around 3500 videos from 20 subjects. \n",
    "2. For each subject, there are 150-200 video clips with an average duration of around 10 seconds. \n",
    "3. Five mobile phones were used to collect the database. \n",
    "4. All face videos are captured by a front-facing camera. \n",
    "5. The standoff distance between the face and camera is about 30-50 cm.\n",
    "6. Three spoofing attack types including printed paper attack, video replay attack, and masking attack are considered. Masking attack is of three types: __Full mask, Cropped mask__, and __Upper mask__.\n",
    "7. Moreover, the face videos are captured with different backgrounds which guarantee the face videos are coupled with different illumination conditions.\n",
    "\n",
    "More details regarding the dataset can be found out here http://rose1.ntu.edu.sg/Datasets/faceLivenessDetection.asp.\n"
   ]
  },
  {
   "cell_type": "markdown",
   "metadata": {},
   "source": [
    "![title](images/ImageGrid_1.png)"
   ]
  },
  {
   "cell_type": "code",
   "execution_count": 92,
   "metadata": {},
   "outputs": [],
   "source": [
    "import os\n",
    "from os.path import isfile, join\n",
    "import numpy as np\n",
    "import pandas as pd\n",
    "import seaborn as sns\n",
    "import matplotlib.pyplot as plt\n",
    "import random\n",
    "import cv2, glob\n",
    "import keras\n",
    "from keras.models import model_from_json\n",
    "from keras.models import Sequential, Model\n",
    "import keras.backend as K\n",
    "from keras.layers import Conv3D, MaxPooling3D, Embedding, TimeDistributed, Dense, RepeatVector,\\\n",
    "                         Activation, Flatten, Reshape, concatenate, Dropout, BatchNormalization, SpatialDropout1D\n",
    "from keras.optimizers import Adam, RMSprop\n",
    "from keras.layers.wrappers import Bidirectional\n",
    "from keras.layers.merge import add\n",
    "from keras.preprocessing import image\n",
    "from keras import Input, layers\n",
    "from keras import optimizers\n",
    "from keras.callbacks import ModelCheckpoint, ReduceLROnPlateau, TensorBoard, Callback, EarlyStopping\n",
    "from keras.utils import to_categorical\n",
    "\n",
    "import face_recognition"
   ]
  },
  {
   "cell_type": "markdown",
   "metadata": {},
   "source": [
    "### Data Analysis"
   ]
  },
  {
   "cell_type": "code",
   "execution_count": 93,
   "metadata": {},
   "outputs": [],
   "source": [
    "base_dir= '/Users/m0a04ut/MyData/Studz/Fast/'\n",
    "original_model_filename= base_dir+\"LivenessDetectionCodes/LivenessDetectionRunning/model/model.h5\"\n",
    "finetuned_model_filename= base_dir+\"LivenessDetectionCodes/LivenessDetectionRunning/model/finetuned_model.h5\"\n",
    "init_lr= 0.001\n",
    "n_frames_liveness= 24\n",
    "batch_sz= 128\n",
    "n_class= 2\n",
    "num_vids_per_batch = 5\n",
    "n_epochs= 10\n",
    "do_finetune = False #set True if you want to finetune the model\n",
    "font = cv2.FONT_HERSHEY_DUPLEX"
   ]
  },
  {
   "cell_type": "code",
   "execution_count": 28,
   "metadata": {},
   "outputs": [
    {
     "name": "stdout",
     "output_type": "stream",
     "text": [
      "Total number of video files are:  3497\n"
     ]
    }
   ],
   "source": [
    "onlyfolders = [f for f in os.listdir(base_dir+'LivenessDetectionDataset/NTU_ROSE_Dataset/') if not isfile(join(base_dir, f))]\n",
    "all_videos= []\n",
    "for folder in onlyfolders:\n",
    "    files= os.listdir(base_dir+'LivenessDetectionDataset/NTU_ROSE_Dataset/'+folder)\n",
    "    all_videos.extend(files)\n",
    "print(\"Total number of video files are: \", len(all_videos))"
   ]
  },
  {
   "cell_type": "code",
   "execution_count": 29,
   "metadata": {},
   "outputs": [
    {
     "name": "stdout",
     "output_type": "stream",
     "text": [
      "Mask              999\n",
      "Genuine           897\n",
      "Recorded video    801\n",
      "Print             800\n",
      "Name: tag, dtype: int64 Attack     2600\n",
      "Genuine     897\n",
      "Name: tag_Attack_Genuine, dtype: int64\n"
     ]
    }
   ],
   "source": [
    "tag_1= [x.split('_')[0] for x in all_videos]\n",
    "tag_1= [x[0] for x in tag_1]\n",
    "tag_1= pd.DataFrame(tag_1, columns= ['tag'])\n",
    "tag_1[tag_1['tag']=='M']= 'Mask'\n",
    "tag_1[tag_1['tag']=='G']= 'Genuine'\n",
    "tag_1[tag_1['tag']=='V']= 'Recorded video'\n",
    "tag_1[tag_1['tag']=='P']= 'Print'\n",
    "tag_1.loc[tag_1['tag'].isin(['Mask', 'Recorded video', 'Print']), 'tag_Attack_Genuine']= 'Attack'\n",
    "tag_1.loc[tag_1['tag']=='Genuine', 'tag_Attack_Genuine']= 'Genuine'\n",
    "print(tag_1['tag'].value_counts(), tag_1['tag_Attack_Genuine'].value_counts())"
   ]
  },
  {
   "cell_type": "code",
   "execution_count": 30,
   "metadata": {},
   "outputs": [
    {
     "data": {
      "text/plain": [
       "Text(0.5, 1.0, 'Count of Genuine and combnined attacks video files')"
      ]
     },
     "execution_count": 30,
     "metadata": {},
     "output_type": "execute_result"
    },
    {
     "data": {
      "image/png": "[encoded data removed]",
      "text/plain": [
       "<Figure size 1440x576 with 2 Axes>"
      ]
     },
     "metadata": {
      "needs_background": "light"
     },
     "output_type": "display_data"
    }
   ],
   "source": [
    "f, axes = plt.subplots(1, 2, figsize=(20,8))\n",
    "sns.countplot(x=\"tag\", data=tag_1, ax= axes[0])\n",
    "sns.countplot(x=\"tag_Attack_Genuine\", data=tag_1, ax= axes[1])\n",
    "axes[0].set_title('Count of Genuine and different attacks video files')\n",
    "axes[1].set_title('Count of Genuine and combnined attacks video files')"
   ]
  },
  {
   "cell_type": "markdown",
   "metadata": {},
   "source": [
    "### Traning and validation data preparation\n"
   ]
  },
  {
   "cell_type": "markdown",
   "metadata": {},
   "source": [
    "1. Data from 2 subjects has been used for validation and remaining 18 is being used for training.\n",
    "2. 24 frames are being processed at once and being passed to 3DCNN.\n",
    "3. All the frames are being resized to 100\\*100 before being passed to CNN."
   ]
  },
  {
   "cell_type": "code",
   "execution_count": 34,
   "metadata": {},
   "outputs": [],
   "source": [
    "def read_files(folders):\n",
    "    all_files, all_labels= [], []\n",
    "\n",
    "    for folder in folders:\n",
    "        files= os.listdir(base_dir+'LivenessDetectionDataset/NTU_ROSE_Dataset/'+folder)\n",
    "        for file in files:\n",
    "            all_files.append(base_dir+'LivenessDetectionDataset/NTU_ROSE_Dataset/'+folder + \"/\"+ file)\n",
    "            tag= file.split('_')[0]\n",
    "            if(tag=='G'):\n",
    "                all_labels.append([1,0])\n",
    "            else:\n",
    "                all_labels.append([0,1])\n",
    "    return (all_files, all_labels)"
   ]
  },
  {
   "cell_type": "code",
   "execution_count": 40,
   "metadata": {},
   "outputs": [],
   "source": [
    "val_folders= random.sample(onlyfolders, 2)\n",
    "train_folders= [folder for folder in onlyfolders if folder not in val_folders]\n",
    "train_input_files, train_file_labels = read_files(train_folders)\n",
    "val_input_files, val_file_labels = read_files(val_folders)"
   ]
  },
  {
   "cell_type": "code",
   "execution_count": 59,
   "metadata": {},
   "outputs": [],
   "source": [
    "#following lines output number of frames in a video file\n",
    "# cap = cv2.VideoCapture(base_dir+'LivenessDetectionDataset/NTU_ROSE_Dataset/'+\"20\"+\"/Mc_T_HW_g_E_20_65.mp4\")\n",
    "# length = int(cap.get(cv2.CAP_PROP_FRAME_COUNT))\n",
    "# print( length )"
   ]
  },
  {
   "cell_type": "markdown",
   "metadata": {},
   "source": [
    "### Distribution after training and validation split"
   ]
  },
  {
   "cell_type": "code",
   "execution_count": 44,
   "metadata": {},
   "outputs": [],
   "source": [
    "val_input_files, val_file_labels= np.array(val_input_files), np.array(val_file_labels)\n",
    "train_input_files, train_file_labels= np.array(train_input_files), np.array(train_file_labels)\n",
    "train_file_labels_unique= np.unique(train_file_labels, axis=0, return_counts= True)\n",
    "val_file_labels_unique= np.unique(val_file_labels, axis=0, return_counts= True)\n",
    "train_file_labels_unique_df= pd.DataFrame(train_file_labels_unique[0], columns=['0','1'])\n",
    "val_file_labels_unique_df= pd.DataFrame(val_file_labels_unique[0], columns=['0','1'])\n",
    "train_file_labels_unique_df['Count']= train_file_labels_unique[1]\n",
    "val_file_labels_unique_df['Count']= val_file_labels_unique[1]\n",
    "train_file_labels_unique_df.loc[train_file_labels_unique_df['0']==0, 'type']= 'Attack'\n",
    "train_file_labels_unique_df.loc[train_file_labels_unique_df['0']==1, 'type']= 'Genuine'\n",
    "val_file_labels_unique_df.loc[val_file_labels_unique_df['0']==0, 'type']= 'Attack'\n",
    "val_file_labels_unique_df.loc[val_file_labels_unique_df['0']==1, 'type']= 'Genuine'\n",
    "train_file_labels_unique_df= train_file_labels_unique_df[['Count', 'type']]\n",
    "val_file_labels_unique_df= val_file_labels_unique_df[['Count', 'type']]\n",
    "train_val_cnt= pd.DataFrame(columns=['train_val', 'Count'])\n",
    "train_val_cnt['Count']= [train_input_files.shape[0], val_input_files.shape[0]]\n",
    "train_val_cnt['train_val']= ['train', 'val']"
   ]
  },
  {
   "cell_type": "code",
   "execution_count": 45,
   "metadata": {},
   "outputs": [
    {
     "data": {
      "text/plain": [
       "Text(0.5, 1.0, 'number of Genuine and attacks samples in validation')"
      ]
     },
     "execution_count": 45,
     "metadata": {},
     "output_type": "execute_result"
    },
    {
     "data": {
      "image/png": "[encoded data removed]",
      "text/plain": [
       "<Figure size 1440x576 with 3 Axes>"
      ]
     },
     "metadata": {
      "needs_background": "light"
     },
     "output_type": "display_data"
    }
   ],
   "source": [
    "f, axes = plt.subplots(1, 3, figsize=(20,8))\n",
    "sns.barplot(x=\"train_val\", y= \"Count\", data=train_val_cnt, ax= axes[0])\n",
    "sns.barplot(x=\"type\", y= \"Count\", data=train_file_labels_unique_df, ax= axes[1])\n",
    "sns.barplot(x=\"type\", y= \"Count\", data=val_file_labels_unique_df, ax= axes[2])\n",
    "axes[0].set_title('number of training and validation samples')\n",
    "axes[1].set_title('number of Genuine and attacks samples in training')\n",
    "axes[2].set_title('number of Genuine and attacks samples in validation')"
   ]
  },
  {
   "cell_type": "code",
   "execution_count": 50,
   "metadata": {},
   "outputs": [],
   "source": [
    "def data_generator(files, num_vids_per_batch, n_frames_liveness):\n",
    "    X, Y= [], []\n",
    "    n= 0\n",
    "    while True:\n",
    "        for file in files:\n",
    "            print(file)\n",
    "            vidcap = cv2.VideoCapture(file)\n",
    "            ret= 1\n",
    "            count= 0 # this tracks the number of frames in a data point\n",
    "            frames= []\n",
    "            n+=1 # this tracks number of videos in current batch\n",
    "            while ret:\n",
    "                ret,frame = vidcap.read()\n",
    "                if(not ret): break\n",
    "                frame = cv2.resize(frame, (100,100))\n",
    "                frame = cv2.cvtColor(frame, cv2.COLOR_BGR2GRAY)\n",
    "                frames.append(frame)\n",
    "                count += 1\n",
    "                if(count==n_frames_liveness):\n",
    "                    X.append(frames)\n",
    "                    frames= []\n",
    "                    count= 0\n",
    "                    tag= file.split('_')[0]\n",
    "                    if(tag=='G'):\n",
    "                        Y.append([1,0])\n",
    "                    else:\n",
    "                        Y.append([0,1])\n",
    "            if (n==num_vids_per_batch):\n",
    "                X, Y= np.array(X), np.array(Y)\n",
    "                X= X.reshape(X.shape[0], n_frames_liveness, 100, 100, 1)\n",
    "                yield [X, Y]\n",
    "                n= 0 \n",
    "                X, Y = [], []                                    "
   ]
  },
  {
   "cell_type": "code",
   "execution_count": 52,
   "metadata": {
    "hide_input": true
   },
   "outputs": [],
   "source": [
    "# ###### run this for testing the data_generator function ############\n",
    "# for aa in data_generator(train_input_files[:7], 3, 24):\n",
    "#     print(aa[0].shape, aa[1].shape,  np.max(aa[0]), np.max(aa[1]), np.min(aa[0]), np.min(aa[1]))\n",
    "    \n",
    "    "
   ]
  },
  {
   "cell_type": "code",
   "execution_count": 53,
   "metadata": {
    "code_folding": [],
    "hide_input": true
   },
   "outputs": [],
   "source": [
    "# def read_frames(folders):\n",
    "#     inp_frames= []\n",
    "#     labels= []\n",
    "#     for folder in folders:\n",
    "#         files= os.listdir(base+'LivenessDetectionDataset/NTU_ROSE_Dataset/'+folder)\n",
    "#         for file in files:\n",
    "#             vidcap = cv2.VideoCapture(base+'LivenessDetectionDataset/NTU_ROSE_Dataset/'+folder+'/'+file)\n",
    "#             ret= 1\n",
    "#             count= 0\n",
    "#             frames= []\n",
    "#             while ret:\n",
    "#                 ret,frame = vidcap.read()\n",
    "#                 if(not ret): break\n",
    "#                 frame = cv2.resize(frame, (100,100))\n",
    "#                 frame = cv2.cvtColor(frame, cv2.COLOR_BGR2GRAY)\n",
    "#                 frames.append(frame)\n",
    "#                 count += 1\n",
    "#                 if(count==24):\n",
    "#                     inp_frames.append(frames)\n",
    "#                     frames= []\n",
    "#                     count= 0\n",
    "#                     tag= file.split('_')[0]\n",
    "#                     if(tag=='G'):\n",
    "#                         labels.append([1,0])\n",
    "#                     else:\n",
    "#                         labels.append([0,1])\n",
    "#     return inp_frames, labels\n",
    "\n",
    "                                    "
   ]
  },
  {
   "cell_type": "code",
   "execution_count": 54,
   "metadata": {
    "code_folding": [],
    "hide_input": true
   },
   "outputs": [],
   "source": [
    "# val_input_frames, val_labels = read_frames(val_folders)\n",
    "# train_input_frames, train_labels = read_frames(train_folders)\n"
   ]
  },
  {
   "cell_type": "code",
   "execution_count": 55,
   "metadata": {
    "hide_input": true
   },
   "outputs": [],
   "source": [
    "# np.save(base+'LivenessDetectionCodes/LivenessDetectionRunning/TrainTestData/val_input_frames.npy', val_input_frames)\n",
    "# np.save(base+'LivenessDetectionCodes/LivenessDetectionRunning/TrainTestData/val_labels.npy', val_labels)\n",
    "# np.save(base+'LivenessDetectionCodes/LivenessDetectionRunning/TrainTestData/train_input_frames.npy', train_input_frames)\n",
    "# np.save(base+'LivenessDetectionCodes/LivenessDetectionRunning/TrainTestData/train_labels.npy', train_labels)"
   ]
  },
  {
   "cell_type": "code",
   "execution_count": null,
   "metadata": {
    "hide_input": true
   },
   "outputs": [],
   "source": [
    "# val_input_frames= np.load(base+'LivenessDetectionCodes/LivenessDetectionRunning/TrainTestData/val_input_frames.npy') \n",
    "# val_labels= np.load(base+'LivenessDetectionCodes/LivenessDetectionRunning/TrainTestData/val_labels.npy')\n",
    "# train_input_frames= np.load(base+'LivenessDetectionCodes/LivenessDetectionRunning/TrainTestData/train_input_frames.npy')\n",
    "# train_labels= np.load(base+'LivenessDetectionCodes/LivenessDetectionRunning/TrainTestData/train_labels.npy')"
   ]
  },
  {
   "cell_type": "code",
   "execution_count": 13,
   "metadata": {
    "hide_input": true
   },
   "outputs": [],
   "source": [
    "# val_input_frames, val_labels= np.array(val_input_frames), np.array(val_labels)\n",
    "# train_input_frames, train_labels= np.array(train_input_frames), np.array(train_labels)\n",
    "# train_labels_unique= np.unique(train_labels, axis=0, return_counts= True)\n",
    "# val_labels_unique= np.unique(val_labels, axis=0, return_counts= True)\n",
    "# train_labels_unique_df= pd.DataFrame(train_labels_unique[0], columns=['0','1'])\n",
    "# val_labels_unique_df= pd.DataFrame(val_labels_unique[0], columns=['0','1'])\n",
    "# train_labels_unique_df['Count']= train_labels_unique[1]\n",
    "# val_labels_unique_df['Count']= val_labels_unique[1]\n",
    "# train_labels_unique_df.loc[train_labels_unique_df['0']==0, 'type']= 'Attack'\n",
    "# train_labels_unique_df.loc[train_labels_unique_df['0']==1, 'type']= 'Genuine'\n",
    "# val_labels_unique_df.loc[val_labels_unique_df['0']==0, 'type']= 'Attack'\n",
    "# val_labels_unique_df.loc[val_labels_unique_df['0']==1, 'type']= 'Genuine'\n",
    "# train_labels_unique_df= train_labels_unique_df[['Count', 'type']]\n",
    "# val_labels_unique_df= val_labels_unique_df[['Count', 'type']]\n",
    "# train_val_cnt= pd.DataFrame(columns=['train_val', 'Count'])\n",
    "# train_val_cnt['Count']= [train_input_frames.shape[0], val_input_frames.shape[0]]\n",
    "# train_val_cnt['train_val']= ['train', 'val']\n",
    "# #resshape train and val input such that it has one channel for CNN input\n",
    "# val_input_frames= val_input_frames.reshape(val_input_frames.shape[0],n_frames_liveness,100,100,1) \n",
    "# train_input_frames= train_input_frames.reshape(train_input_frames.shape[0],n_frames_liveness,100,100,1)"
   ]
  },
  {
   "cell_type": "markdown",
   "metadata": {},
   "source": [
    "### Model Training/Finetuning"
   ]
  },
  {
   "cell_type": "code",
   "execution_count": 70,
   "metadata": {},
   "outputs": [],
   "source": [
    "def create_liveness_model(n_frames_liveness):\n",
    "\n",
    "    model = Sequential()\n",
    "    model.add(Conv3D(32, kernel_size=(3, 3, 3),\n",
    "                    activation='relu',\n",
    "                    input_shape=(n_frames_liveness,100,100,1))) #this need to be changed to 24\n",
    "    model.add(Conv3D(64, (3, 3, 3), activation='relu'))\n",
    "    model.add(MaxPooling3D(pool_size=(2, 2, 2)))\n",
    "    model.add(Conv3D(64, (3, 3, 3), activation='relu'))\n",
    "    model.add(MaxPooling3D(pool_size=(2, 2, 2)))\n",
    "    model.add(Conv3D(64, (3, 3, 3), activation='relu'))\n",
    "    model.add(MaxPooling3D(pool_size=(2, 2, 2)))\n",
    "    model.add(Dropout(0.25))\n",
    "    model.add(Flatten())\n",
    "    model.add(Dense(128, activation='relu'))\n",
    "    model.add(Dropout(0.5))\n",
    "    model.add(Dense(n_class, activation='softmax'))\n",
    "    optimizer = Adam(lr=init_lr, decay=init_lr / n_epochs)\n",
    "#   model.compile(loss=\"binary_crossentropy\", optimizer=optimizer, metrics= [\"accuracy\", custom_metric])\n",
    "    model.compile(loss=\"categorical_crossentropy\", optimizer=optimizer, metrics = [\"acc\"]) #for multilabel classification loss is always binary_crossentropy. this should not change.\n",
    "    return model\n"
   ]
  },
  {
   "cell_type": "code",
   "execution_count": 63,
   "metadata": {},
   "outputs": [],
   "source": [
    "# this callback function is used to plot the training/val accuracy and losses while training\n",
    "class TrainingPlot(Callback):\n",
    "\n",
    "    def __init__(self, filename= None):\n",
    "        self.filename = filename\n",
    "\n",
    "    # This function is called when the training begins\n",
    "    def on_train_begin(self, logs={}):\n",
    "        # Initialize the lists for holding the logs, losses and accuracies\n",
    "        self.losses = []\n",
    "        self.acc = []\n",
    "        self.val_losses = []\n",
    "        self.val_acc = []\n",
    "        self.logs = []\n",
    "\n",
    "    # This function is called at the end of each epoch\n",
    "    def on_epoch_end(self, epoch, logs={}):\n",
    "\n",
    "        # Append the logs, losses and accuracies to the lists\n",
    "        self.logs.append(logs)\n",
    "        self.losses.append(logs.get('loss'))\n",
    "        self.acc.append(logs.get('acc'))\n",
    "        self.val_losses.append(logs.get('val_loss'))\n",
    "        self.val_acc.append(logs.get('val_acc'))\n",
    "\n",
    "        # Before plotting ensure at least 2 epochs have passed\n",
    "        if len(self.losses) > 1:\n",
    "            \n",
    "            # Clear the previous plot\n",
    "            clear_output(wait=True)\n",
    "            N = np.arange(1, len(self.losses)+1)\n",
    "\n",
    "            # You can chose the style of your preference\n",
    "            # print(plt.style.available) to see the available options\n",
    "            plt.style.use(\"seaborn\")\n",
    "\n",
    "            # Plot train loss, train acc, val loss and val acc against epochs passed\n",
    "            fig = plt.figure(figsize= (25,12))\n",
    "            plt.plot(N, self.losses, label = \"train_loss\")\n",
    "            plt.plot(N, self.acc, label = \"train_acc\")\n",
    "            plt.plot(N, self.val_losses, label = \"val_loss\")\n",
    "            plt.plot(N, self.val_acc, label = \"val_acc\")\n",
    "            plt.title(\"Training Loss and Accuracy [Epoch {}]\".format(epoch+1))\n",
    "            plt.xlabel(\"Epoch #\")\n",
    "            plt.ylabel(\"Loss/Accuracy\")\n",
    "            plt.legend()\n",
    "            plt.show()\n",
    "            # Make sure there exists a folder called output in the current directory\n",
    "            # or replace 'output' with whatever direcory you want to put in the plots\n",
    "        if (filename != None and epoch == (N_EPOCHS -1)):\n",
    "            fig.savefig(self.filename)\n",
    "            plt.close()"
   ]
  },
  {
   "cell_type": "code",
   "execution_count": 64,
   "metadata": {},
   "outputs": [],
   "source": [
    "class LRFinder(Callback):\n",
    "    \n",
    "    '''\n",
    "    A simple callback for finding the optimal learning rate range to start the training with for your model + dataset. This optimal learning rate will\n",
    "    be used as max_lr in SGDRScheduler or initial learning rate in general.\n",
    "    \n",
    "    # Usage\n",
    "        ```python\n",
    "            lr_finder = LRFinder(min_lr=1e-5, \n",
    "                                 max_lr=1e-2, \n",
    "                                 steps_per_epoch=np.ceil(epoch_size/batch_size), \n",
    "                                 epochs=3)\n",
    "            model.fit(X_train, Y_train, callbacks=[lr_finder])\n",
    "            \n",
    "            lr_finder.plot_loss()\n",
    "        ```\n",
    "    \n",
    "    # Arguments\n",
    "        min_lr: The lower bound of the learning rate range for the experiment.\n",
    "        max_lr: The upper bound of the learning rate range for the experiment.\n",
    "        steps_per_epoch: Number of mini-batches in the dataset. Calculated as `np.ceil(epoch_size/batch_size)`. \n",
    "        epochs: Number of epochs to run experiment. Usually between 2 and 4 epochs is sufficient. \n",
    "        \n",
    "    # References\n",
    "        Blog post: jeremyjordan.me/nn-learning-rate\n",
    "        Original paper: https://arxiv.org/abs/1506.01186\n",
    "    '''\n",
    "    \n",
    "    def __init__(self, min_lr=1e-5, max_lr=1e-2, steps_per_epoch=None, epochs=None):\n",
    "        super().__init__()\n",
    "        \n",
    "        self.min_lr = min_lr\n",
    "        self.max_lr = max_lr\n",
    "        self.total_iterations = steps_per_epoch * epochs\n",
    "        self.iteration = 0\n",
    "        self.history = {}\n",
    "        \n",
    "    def clr(self):\n",
    "        '''Calculate the learning rate.'''\n",
    "        x = self.iteration / self.total_iterations \n",
    "        return self.min_lr + (self.max_lr-self.min_lr) * x\n",
    "        \n",
    "    def on_train_begin(self, logs=None):\n",
    "        '''Initialize the learning rate to the minimum value at the start of training.'''\n",
    "        logs = logs or {}\n",
    "        K.set_value(self.model.optimizer.lr, self.min_lr)\n",
    "        \n",
    "    def on_batch_end(self, epoch, logs=None):\n",
    "        '''Record previous batch statistics and update the learning rate.'''\n",
    "        logs = logs or {}\n",
    "        self.iteration += 1\n",
    "\n",
    "        self.history.setdefault('lr', []).append(K.get_value(self.model.optimizer.lr))\n",
    "        self.history.setdefault('iterations', []).append(self.iteration)\n",
    "        self.history.setdefault('val_acc', []).append(logs.get(\"val_acc\"))\n",
    "        self.history.setdefault('val_loss', []).append(logs.get(\"val_loss\"))\n",
    "\n",
    "        for k, v in logs.items():\n",
    "            self.history.setdefault(k, []).append(v)\n",
    "            \n",
    "        K.set_value(self.model.optimizer.lr, self.clr())\n",
    " \n",
    "    def plot_lr(self):\n",
    "        '''Helper function to quickly inspect the learning rate schedule.'''\n",
    "        plt.plot(self.history['iterations'], self.history['lr'])\n",
    "        plt.yscale('log')\n",
    "        plt.xlabel('Iteration')\n",
    "        plt.ylabel('Learning rate (log scale)')\n",
    "        plt.title(\"ITERATION VS LEARNING RATE\")\n",
    "        plt.show()\n",
    "        \n",
    "    def plot_loss(self):\n",
    "        '''Helper function to quickly observe the learning rate experiment results.'''\n",
    "        plt.plot(self.history['lr'], self.history['loss'])\n",
    "        plt.xscale('log')\n",
    "        plt.xlabel('Learning rate (log scale)')\n",
    "        plt.ylabel('Loss')\n",
    "        plt.title(\"LEARNING RATE VS LOSS\")\n",
    "        plt.show()"
   ]
  },
  {
   "cell_type": "code",
   "execution_count": 65,
   "metadata": {},
   "outputs": [],
   "source": [
    "class SGDRScheduler(Callback):\n",
    "    '''Cosine annealing learning rate scheduler with periodic restarts.\n",
    "    # Usage\n",
    "        ```python\n",
    "            schedule = SGDRScheduler(min_lr=1e-5,\n",
    "                                     max_lr=1e-2,\n",
    "                                     steps_per_epoch=np.ceil(epoch_size/batch_size),\n",
    "                                     lr_decay=0.9,\n",
    "                                     cycle_length=5,\n",
    "                                     mult_factor=1.5)\n",
    "            model.fit(X_train, Y_train, epochs=100, callbacks=[schedule])\n",
    "        ```\n",
    "    # Arguments\n",
    "        min_lr: The lower bound of the learning rate range for the experiment.\n",
    "        max_lr: The upper bound of the learning rate range for the experiment.\n",
    "        steps_per_epoch: Number of mini-batches in the dataset. Calculated as `np.ceil(epoch_size/batch_size)`. \n",
    "        lr_decay: Reduce the max_lr after the completion of each cycle.\n",
    "                  Ex. To reduce the max_lr by 20% after each cycle, set this value to 0.8.\n",
    "        cycle_length: Initial number of epochs in a cycle.\n",
    "        mult_factor: Scale epochs_to_restart after each full cycle completion.\n",
    "    # References\n",
    "        Blog post: jeremyjordan.me/nn-learning-rate\n",
    "        Original paper: http://arxiv.org/abs/1608.03983\n",
    "    '''\n",
    "    def __init__(self,\n",
    "                 min_lr,\n",
    "                 max_lr,\n",
    "                 steps_per_epoch,\n",
    "                 lr_decay=1,\n",
    "                 cycle_length=10,\n",
    "                 mult_factor=2):\n",
    "\n",
    "        self.min_lr = min_lr\n",
    "        self.max_lr = max_lr\n",
    "        self.lr_decay = lr_decay\n",
    "\n",
    "        self.batch_since_restart = 0\n",
    "        self.next_restart = cycle_length\n",
    "        self.trn_iterations = 0\n",
    "\n",
    "        self.steps_per_epoch = steps_per_epoch\n",
    "\n",
    "        self.cycle_length = cycle_length\n",
    "        self.mult_factor = mult_factor\n",
    "\n",
    "        self.history = {}\n",
    "\n",
    "    def clr(self):\n",
    "        '''Calculate the learning rate.'''\n",
    "        fraction_to_restart = self.batch_since_restart / (self.steps_per_epoch * self.cycle_length)\n",
    "        lr = self.min_lr + 0.5 * (self.max_lr - self.min_lr) * (1 + np.cos(fraction_to_restart * np.pi))\n",
    "        return lr\n",
    "\n",
    "    def on_train_begin(self, logs={}):\n",
    "        '''Initialize the learning rate to the minimum value at the start of training.'''\n",
    "        logs = logs or {}\n",
    "        K.set_value(self.model.optimizer.lr, self.max_lr)\n",
    "\n",
    "    def on_batch_end(self, batch, logs={}):\n",
    "        '''Record previous batch statistics and update the learning rate.'''\n",
    "        logs = logs or {}\n",
    "        self.trn_iterations += 1\n",
    "        self.history.setdefault('lr', []).append(K.get_value(self.model.optimizer.lr))\n",
    "        self.history.setdefault('iterations', []).append(self.trn_iterations)\n",
    "        self.history.setdefault('val_acc', []).append(logs.get(\"val_acc\"))\n",
    "        self.history.setdefault('val_loss', []).append(logs.get(\"val_loss\"))\n",
    "        for k, v in logs.items():\n",
    "            self.history.setdefault(k, []).append(v)\n",
    "        \n",
    "        \n",
    "        self.batch_since_restart += 1\n",
    "        K.set_value(self.model.optimizer.lr, self.clr())\n",
    "\n",
    "    def on_epoch_end(self, epoch, logs={}):\n",
    "        '''Check for end of current cycle, apply restarts when necessary.'''\n",
    "        if epoch + 1 == self.next_restart:\n",
    "            self.batch_since_restart = 0\n",
    "            self.cycle_length = np.ceil(self.cycle_length * self.mult_factor)\n",
    "            self.next_restart += self.cycle_length\n",
    "            self.max_lr *= self.lr_decay\n",
    "            self.best_weights = self.model.get_weights()\n",
    "\n",
    "    def on_train_end(self, logs={}):\n",
    "        '''Set weights to the values from the end of the most recent cycle for best performance.'''\n",
    "        self.model.set_weights(self.best_weights)\n"
   ]
  },
  {
   "cell_type": "code",
   "execution_count": 71,
   "metadata": {
    "code_folding": []
   },
   "outputs": [],
   "source": [
    "def do_finetune_model(model, finetuned_model_filename):\n",
    "    start= time()\n",
    "    train_steps = np.ceil(len(train_input_files)/num_vids_per_batch)\n",
    "    val_steps = np.ceil(len(val_input_files)/num_vids_per_batch)\n",
    "    \n",
    "    #create all the callbacks\n",
    "    checkpoint = ModelCheckpoint(finetuned_model_filename, monitor='val_loss', verbose=1, save_best_only=True, mode='min')\n",
    "    reduce_on_plateau = ReduceLROnPlateau(monitor=\"val_loss\", mode=\"min\", factor=0.2, patience=2, verbose=1)\n",
    "    earlystop = EarlyStopping(monitor= 'val_loss', min_delta=0.5, patience=1, verbose=0, mode='max')\n",
    "    lr_finder = LRFinder(min_lr=1e-5, max_lr=1e-2, steps_per_epoch=train_steps, epochs= N_EPOCHS)\n",
    "    schedule = SGDRScheduler(min_lr=5e-5, max_lr=1e-2, steps_per_epoch=train_steps, lr_decay=0.8, cycle_length=1,mult_factor=2)\n",
    "    plot_losses = TrainingPlot()\n",
    "    callbacks_list = [checkpoint, schedule, plot_losses]\n",
    "    \n",
    "    train_generator= data_generator(train_input_files, num_vids_per_batch, n_frames_liveness)\n",
    "    val_generator= data_generator(val_input_files, num_vids_per_batch, n_frames_liveness)\n",
    "    \n",
    "    history= model.fit_generator(train_generator, validation_data= val_generator, epochs= n_epochs, steps_per_epoch=train_steps, \n",
    "                             validation_steps= val_steps, callbacks=callbacks_list, verbose=1)\n",
    "                            # use_multiprocessing=True, workers=4)\n",
    "        \n",
    "    print(\"TIME TAKEN IN SECONDS: \", time()-start)\n",
    "    return model"
   ]
  },
  {
   "cell_type": "code",
   "execution_count": 80,
   "metadata": {},
   "outputs": [],
   "source": [
    "def get_model(do_finetune= False):\n",
    "    \n",
    "    model = create_liveness_model(n_frames_liveness)\n",
    "    # load weights into new model\n",
    "    model.load_weights(original_model_filename)\n",
    "    print(\"Loaded model from disk\")\n",
    "    \n",
    "    if (do_finetune == True):\n",
    "        return  do_finetune_model(model, finetuned_model_filename)\n",
    "    else:\n",
    "        return model"
   ]
  },
  {
   "cell_type": "code",
   "execution_count": 89,
   "metadata": {},
   "outputs": [],
   "source": [
    "def get_users():\n",
    "    known_names=[]\n",
    "    known_encods=[]\n",
    "\n",
    "    for i in glob.glob(base_dir+\"LivenessDetectionCodes/LivenessDetectionRunning/people/*.jpg\"):\n",
    "        img = face_recognition.load_image_file(i)\n",
    "        encoding = face_recognition.face_encodings(img)[0]\n",
    "        known_encods.append(encoding)\n",
    "        known_names.append(i[7:-4])\n",
    "\n",
    "    return known_names, known_encods"
   ]
  },
  {
   "cell_type": "code",
   "execution_count": 1,
   "metadata": {},
   "outputs": [],
   "source": [
    "def main_function():\n",
    "    model = get_model(n_frames_liveness)\n",
    "    known_names, known_encods = get_users()\n",
    "    video_capture = cv2.VideoCapture(0)\n",
    "    video_capture.set(3, 640)\n",
    "    video_capture.set(4, 480)\n",
    "\n",
    "    # Initialize some variables\n",
    "    face_locations = []\n",
    "    face_encodings = []\n",
    "    face_names = []\n",
    "    process_this_frame = True\n",
    "    input_vid = []\n",
    "\n",
    "    while True:\n",
    "        # Grab a single frame of video\n",
    "        if len(input_vid) < n_frames_liveness: #here 24 is the number of frames which need to be passed to the liveness model as one test input datapoint. We can reduce this 24 to make the model more responsive/fast.\n",
    "\n",
    "            ret, frame = video_capture.read()\n",
    "\n",
    "            liveimg = cv2.resize(frame, (100,100))\n",
    "            liveimg = cv2.cvtColor(liveimg, cv2.COLOR_BGR2GRAY)\n",
    "            input_vid.append(liveimg)\n",
    "        else:\n",
    "            ret, frame = video_capture.read()\n",
    "\n",
    "            liveimg = cv2.resize(frame, (100,100))\n",
    "            liveimg = cv2.cvtColor(liveimg, cv2.COLOR_BGR2GRAY)\n",
    "            input_vid.append(liveimg)\n",
    "            inp = np.array([input_vid[-n_frames_liveness:]])\n",
    "            inp = inp/255\n",
    "            inp = inp.reshape(1,n_frames_liveness,100,100,1)\n",
    "            pred = model.predict(inp)\n",
    "            input_vid = input_vid[-25:]  #this 25 can also be changed to (n_frames_liveness-1)\n",
    "\n",
    "            if pred[0][0]> prob_liveness:\n",
    "\n",
    "                # Resize frame of video to 1/4 size for faster face recognition processing\n",
    "                small_frame = cv2.resize(frame, (0, 0), fx=0.25, fy=0.25)\n",
    "\n",
    "                # Only process every other frame of video to save time\n",
    "                if process_this_frame:\n",
    "                    # Find all the faces and face encodings in the current frame of video\n",
    "                    face_locations = face_recognition.face_locations(small_frame)\n",
    "                    face_encodings = face_recognition.face_encodings(small_frame, face_locations)\n",
    "                    name = \"Unknown\"\n",
    "                    face_names = []\n",
    "                    for face_encoding in face_encodings:\n",
    "                        for ii in range(len(known_encods)):\n",
    "                            # See if the face is a match for the known face(s)\n",
    "                            match = face_recognition.compare_faces([known_encods[ii]], face_encoding)\n",
    "\n",
    "                            if match[0]:\n",
    "                                name = known_names[ii]\n",
    "\n",
    "                        face_names.append(name)\n",
    "\n",
    "                process_this_frame = not process_this_frame\n",
    "\n",
    "                unlock = False\n",
    "                for n in face_names:\n",
    "\n",
    "                    if n != 'Unknown':\n",
    "                        unlock=True\n",
    "\n",
    "                # Display the results\n",
    "                for (top, right, bottom, left), name in zip(face_locations, face_names):\n",
    "                    # Scale back up face locations since the frame we detected in was scaled to 1/4 size\n",
    "                    top *= 4\n",
    "                    right *= 4\n",
    "                    bottom *= 4\n",
    "                    left *= 4\n",
    "\n",
    "                    # Draw a box around the face\n",
    "                    cv2.rectangle(frame, (left, top), (right, bottom), (0, 0, 255), 2)\n",
    "\n",
    "                    # Draw a label with a name below the face\n",
    "                    cv2.rectangle(frame, (left, bottom - 35), (right, bottom), (0, 0, 255), cv2.FILLED)\n",
    "\n",
    "                    cv2.putText(frame, name, (left + 6, bottom - 6), font, 1.0, (255, 255, 255), 1)\n",
    "                    if unlock:\n",
    "                        cv2.putText(frame, 'UNLOCK', (frame.shape[1]//2, frame.shape[0]//2), font, 1.0, (255, 255, 255), 1)\n",
    "                    else:\n",
    "                        cv2.putText(frame, 'LOCKED!', (frame.shape[1]//2, frame.shape[0]//2), font, 1.0, (255, 255, 255), 1)\n",
    "            else:\n",
    "                cv2.putText(frame, 'WARNING!', (frame.shape[1]//2, frame.shape[0]//2), font, 1.0, (255, 255, 255), 1)\n",
    "            # Display the liveness score in top left corner     \n",
    "            cv2.putText(frame, \"Prob of Liveness: \"+ str(round(pred[0][0],5)), (20, 20), font, 1.0, (255, 255, 0), 1)\n",
    "            # Display the resulting image\n",
    "            cv2.imshow('Video', frame)\n",
    "\n",
    "            # Hit 'q' on the keyboard to quit!\n",
    "            if cv2.waitKey(1) & 0xFF == ord('q'):\n",
    "                break\n"
   ]
  },
  {
   "cell_type": "code",
   "execution_count": 3,
   "metadata": {},
   "outputs": [
    {
     "ename": "NameError",
     "evalue": "name 'get_model' is not defined",
     "output_type": "error",
     "traceback": [
      "\u001b[0;31m---------------------------------------------------------------------------\u001b[0m",
      "\u001b[0;31mNameError\u001b[0m                                 Traceback (most recent call last)",
      "\u001b[0;32m<ipython-input-3-771bf7c3f7a0>\u001b[0m in \u001b[0;36m<module>\u001b[0;34m\u001b[0m\n\u001b[0;32m----> 1\u001b[0;31m \u001b[0mmain_function\u001b[0m\u001b[0;34m(\u001b[0m\u001b[0;34m)\u001b[0m\u001b[0;34m\u001b[0m\u001b[0;34m\u001b[0m\u001b[0m\n\u001b[0m\u001b[1;32m      2\u001b[0m \u001b[0mvideo_capture\u001b[0m\u001b[0;34m.\u001b[0m\u001b[0mrelease\u001b[0m\u001b[0;34m(\u001b[0m\u001b[0;34m)\u001b[0m\u001b[0;34m\u001b[0m\u001b[0;34m\u001b[0m\u001b[0m\n\u001b[1;32m      3\u001b[0m \u001b[0mcv2\u001b[0m\u001b[0;34m.\u001b[0m\u001b[0mdestroyAllWindows\u001b[0m\u001b[0;34m(\u001b[0m\u001b[0;34m)\u001b[0m\u001b[0;34m\u001b[0m\u001b[0;34m\u001b[0m\u001b[0m\n",
      "\u001b[0;32m<ipython-input-1-8dd7f1a1549c>\u001b[0m in \u001b[0;36mmain_function\u001b[0;34m()\u001b[0m\n\u001b[1;32m      1\u001b[0m \u001b[0;32mdef\u001b[0m \u001b[0mmain_function\u001b[0m\u001b[0;34m(\u001b[0m\u001b[0;34m)\u001b[0m\u001b[0;34m:\u001b[0m\u001b[0;34m\u001b[0m\u001b[0;34m\u001b[0m\u001b[0m\n\u001b[0;32m----> 2\u001b[0;31m     \u001b[0mmodel\u001b[0m \u001b[0;34m=\u001b[0m \u001b[0mget_model\u001b[0m\u001b[0;34m(\u001b[0m\u001b[0mn_frames_liveness\u001b[0m\u001b[0;34m)\u001b[0m\u001b[0;34m\u001b[0m\u001b[0;34m\u001b[0m\u001b[0m\n\u001b[0m\u001b[1;32m      3\u001b[0m     \u001b[0mknown_names\u001b[0m\u001b[0;34m,\u001b[0m \u001b[0mknown_encods\u001b[0m \u001b[0;34m=\u001b[0m \u001b[0mget_users\u001b[0m\u001b[0;34m(\u001b[0m\u001b[0;34m)\u001b[0m\u001b[0;34m\u001b[0m\u001b[0;34m\u001b[0m\u001b[0m\n\u001b[1;32m      4\u001b[0m     \u001b[0mvideo_capture\u001b[0m \u001b[0;34m=\u001b[0m \u001b[0mcv2\u001b[0m\u001b[0;34m.\u001b[0m\u001b[0mVideoCapture\u001b[0m\u001b[0;34m(\u001b[0m\u001b[0;36m0\u001b[0m\u001b[0;34m)\u001b[0m\u001b[0;34m\u001b[0m\u001b[0;34m\u001b[0m\u001b[0m\n\u001b[1;32m      5\u001b[0m     \u001b[0mvideo_capture\u001b[0m\u001b[0;34m.\u001b[0m\u001b[0mset\u001b[0m\u001b[0;34m(\u001b[0m\u001b[0;36m3\u001b[0m\u001b[0;34m,\u001b[0m \u001b[0;36m640\u001b[0m\u001b[0;34m)\u001b[0m\u001b[0;34m\u001b[0m\u001b[0;34m\u001b[0m\u001b[0m\n",
      "\u001b[0;31mNameError\u001b[0m: name 'get_model' is not defined"
     ]
    }
   ],
   "source": [
    "main_function()\n",
    "video_capture.release()\n",
    "cv2.destroyAllWindows()"
   ]
  }
 ],
 "metadata": {
  "hide_input": false,
  "kernelspec": {
   "display_name": "Python 3",
   "language": "python",
   "name": "python3"
  },
  "language_info": {
   "codemirror_mode": {
    "name": "ipython",
    "version": 3
   },
   "file_extension": ".py",
   "mimetype": "text/x-python",
   "name": "python",
   "nbconvert_exporter": "python",
   "pygments_lexer": "ipython3",
   "version": "3.7.4"
  },
  "toc": {
   "base_numbering": 1,
   "nav_menu": {},
   "number_sections": true,
   "sideBar": true,
   "skip_h1_title": false,
   "title_cell": "Table of Contents",
   "title_sidebar": "Contents",
   "toc_cell": false,
   "toc_position": {},
   "toc_section_display": true,
   "toc_window_display": false
  }
 },
 "nbformat": 4,
 "nbformat_minor": 2
}
